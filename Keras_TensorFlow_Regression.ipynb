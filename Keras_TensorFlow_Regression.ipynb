{
 "cells": [
  {
   "cell_type": "code",
   "execution_count": 1,
   "metadata": {
    "collapsed": false,
    "deletable": true,
    "editable": true
   },
   "outputs": [],
   "source": [
    "import random\n",
    "import copy\n",
    "import numpy as np\n",
    "from PIL import Image\n",
    "from IPython.display import display"
   ]
  },
  {
   "cell_type": "code",
   "execution_count": 2,
   "metadata": {
    "collapsed": true,
    "deletable": true,
    "editable": true
   },
   "outputs": [],
   "source": [
    "# read the input data:\n",
    "import mnist_loader\n",
    "training_data, validation_data, test_data = mnist_loader.load_data_wrapper()\n",
    "training_data = list(copy.deepcopy(training_data))"
   ]
  },
  {
   "cell_type": "code",
   "execution_count": 3,
   "metadata": {
    "collapsed": true,
    "deletable": true,
    "editable": true
   },
   "outputs": [],
   "source": [
    "import network"
   ]
  },
  {
   "cell_type": "code",
   "execution_count": 4,
   "metadata": {
    "collapsed": true,
    "deletable": true,
    "editable": true
   },
   "outputs": [],
   "source": [
    "net = network.Network([784, 10])"
   ]
  },
  {
   "cell_type": "code",
   "execution_count": 12,
   "metadata": {
    "collapsed": false,
    "deletable": true,
    "editable": true
   },
   "outputs": [
    {
     "name": "stdout",
     "output_type": "stream",
     "text": [
      "Epoch 0 : 9436 / 10000\n",
      "Epoch 1 : 9435 / 10000\n",
      "Epoch 2 : 9437 / 10000\n",
      "Epoch 3 : 9436 / 10000\n"
     ]
    }
   ],
   "source": [
    "net.SGD(training_data, 4, 10000, 9.0, test_data=copy.deepcopy(validation_data))"
   ]
  },
  {
   "cell_type": "code",
   "execution_count": 6,
   "metadata": {
    "collapsed": false,
    "deletable": true,
    "editable": true
   },
   "outputs": [
    {
     "name": "stdout",
     "output_type": "stream",
     "text": [
      "Epoch 0 : 8633 / 10000\n",
      "Epoch 1 : 8962 / 10000\n",
      "Epoch 2 : 9079 / 10000\n"
     ]
    }
   ],
   "source": [
    "net = network.Network([784, 30, 10])\n",
    "net.SGD(training_data, 3, 40, 3.0, test_data=copy.deepcopy(test_data))"
   ]
  },
  {
   "cell_type": "code",
   "execution_count": 7,
   "metadata": {
    "collapsed": false,
    "deletable": true,
    "editable": true
   },
   "outputs": [
    {
     "name": "stdout",
     "output_type": "stream",
     "text": [
      "Epoch 0 : 8244 / 10000\n",
      "Epoch 1 : 8370 / 10000\n",
      "Epoch 2 : 9248 / 10000\n"
     ]
    }
   ],
   "source": [
    "net = network.Network([784, 30, 10])\n",
    "net.SGD(training_data, 3, 10, 3.0, test_data=copy.deepcopy(test_data))"
   ]
  },
  {
   "cell_type": "markdown",
   "metadata": {
    "deletable": true,
    "editable": true
   },
   "source": [
    "### Make prediction on a random sample"
   ]
  },
  {
   "cell_type": "code",
   "execution_count": null,
   "metadata": {
    "collapsed": false,
    "deletable": true,
    "editable": true
   },
   "outputs": [],
   "source": [
    "val_data = list(copy.deepcopy(validation_data))\n",
    "test_data = list(copy.deepcopy(test_data))"
   ]
  },
  {
   "cell_type": "code",
   "execution_count": null,
   "metadata": {
    "collapsed": false,
    "deletable": true,
    "editable": true
   },
   "outputs": [],
   "source": [
    "img, label = val_data[random.randint(0,len(val_data)-1)]\n",
    "display(Image.fromarray((img.reshape(28,28)*255).astype('uint8'), 'L').resize([56,56]))\n",
    "pred = net.feedforward(img)\n",
    "print('True label of sample: '+str(label)+'\\nModel prediction: '+str(np.argmax(pred)))"
   ]
  },
  {
   "cell_type": "markdown",
   "metadata": {
    "deletable": true,
    "editable": true
   },
   "source": [
    "### Demo on Keras+TensorFlow"
   ]
  },
  {
   "cell_type": "code",
   "execution_count": 8,
   "metadata": {
    "collapsed": false,
    "deletable": true,
    "editable": true
   },
   "outputs": [
    {
     "name": "stderr",
     "output_type": "stream",
     "text": [
      "Using TensorFlow backend.\n"
     ]
    }
   ],
   "source": [
    "import keras\n",
    "from keras.datasets import mnist\n",
    "from keras.models import Sequential\n",
    "from keras.layers import Dense\n",
    "from keras.optimizers import SGD"
   ]
  },
  {
   "cell_type": "code",
   "execution_count": null,
   "metadata": {
    "collapsed": false,
    "deletable": true,
    "editable": true
   },
   "outputs": [],
   "source": [
    "batch_size = 40\n",
    "num_classes = 10\n",
    "epochs = 30"
   ]
  },
  {
   "cell_type": "code",
   "execution_count": null,
   "metadata": {
    "collapsed": true,
    "deletable": true,
    "editable": true
   },
   "outputs": [],
   "source": [
    "x_train = np.zeros([50000,784,1])\n",
    "y_train = np.zeros([50000,1])\n",
    "for i in range(50000):\n",
    "  x_train[i] = training_data[i][0]\n",
    "  y_train[i] = np.argmax(training_data[i][1])\n",
    "x_train = x_train.squeeze()\n",
    "y_train = keras.utils.to_categorical(y_train, num_classes)\n",
    "\n",
    "x_val = np.zeros([10000,784,1])\n",
    "y_val = np.zeros([10000,1])\n",
    "for i in range(10000):\n",
    "  (x_val[i],y_val[i]) = val_data[i]\n",
    "x_val = x_val.squeeze()\n",
    "y_val = keras.utils.to_categorical(y_val, num_classes)\n",
    "\n",
    "x_test = np.zeros([10000,784,1])\n",
    "y_test = np.zeros([10000,1])\n",
    "for i in range(10000):\n",
    "  (x_test[i],y_test[i]) = test_data[i]\n",
    "x_test = x_test.squeeze()\n",
    "y_test = keras.utils.to_categorical(y_test, num_classes)"
   ]
  },
  {
   "cell_type": "code",
   "execution_count": null,
   "metadata": {
    "collapsed": false,
    "deletable": true,
    "editable": true
   },
   "outputs": [],
   "source": [
    "# build the model\n",
    "model = Sequential()\n",
    "model.add(Dense(30, activation='sigmoid', input_shape=(784,)))\n",
    "model.add(Dense(10, activation='sigmoid'))\n",
    "model.summary()\n",
    "model.compile(loss='mean_squared_error', optimizer=SGD(3.), metrics=['accuracy'])\n",
    "history = model.fit(x_train, y_train, batch_size=batch_size, epochs=epochs, \n",
    "                    verbose=2, validation_data=(x_test, y_test))\n",
    "score = model.evaluate(x_test, y_test, verbose=0)\n",
    "print('Test loss:', score[0])\n",
    "print('Test accuracy:', score[1])"
   ]
  },
  {
   "cell_type": "code",
   "execution_count": null,
   "metadata": {
    "collapsed": true,
    "deletable": true,
    "editable": true
   },
   "outputs": [],
   "source": []
  }
 ],
 "metadata": {
  "kernelspec": {
   "display_name": "Python 3",
   "language": "python",
   "name": "python3"
  },
  "language_info": {
   "codemirror_mode": {
    "name": "ipython",
    "version": 3
   },
   "file_extension": ".py",
   "mimetype": "text/x-python",
   "name": "python",
   "nbconvert_exporter": "python",
   "pygments_lexer": "ipython3",
   "version": "3.5.3"
  }
 },
 "nbformat": 4,
 "nbformat_minor": 2
}
